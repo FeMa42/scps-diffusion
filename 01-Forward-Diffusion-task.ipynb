{
 "cells": [
  {
   "cell_type": "markdown",
   "id": "f6e22330",
   "metadata": {},
   "source": []
  },
  {
   "cell_type": "markdown",
   "id": "ce528bb2",
   "metadata": {},
   "source": [
    "# Forward Diffusion Process\n",
    "\n",
    "In this notebook, the forward diffusion process is simulated. In the forward diffusion process, gaussian noise is introduced successively until the original data becomes all noise. In this example we will use an image as our example datapoint and we will add gaussian noise to it until the original image is completely lost."
   ]
  },
  {
   "cell_type": "markdown",
   "id": "11a89c58",
   "metadata": {},
   "source": [
    "## Loading and preprocessing the image\n",
    "\n",
    "First, let's add and import the neccesary packages."
   ]
  },
  {
   "cell_type": "code",
   "execution_count": null,
   "id": "d897dfbd",
   "metadata": {},
   "outputs": [],
   "source": [
    "# If you are using this notebook for the first time run the following commands to install the required packages: \n",
    "import Pkg\n",
    "Pkg.generate(\"diffusion\") # generate a new package\n",
    "Pkg.activate(\"diffusion\") # activate the package\n",
    "Pkg.add(\"Printf\")\n",
    "Pkg.add(\"LaTeXStrings\")\n",
    "Pkg.add(\"Revise\")\n",
    "Pkg.add(\"Images\")\n",
    "Pkg.add(\"Plots\")\n",
    "Pkg.add(\"Flux\")\n",
    "Pkg.add(\"StatsBase\")\n",
    "Pkg.add(\"NNlib\")\n",
    "Pkg.add(\"BSON\")\n",
    "Pkg.add(\"ProgressMeter\")\n",
    "Pkg.add(\"Random\")\n",
    "Pkg.add(\"JSON\")"
   ]
  },
  {
   "cell_type": "code",
   "execution_count": null,
   "id": "8d9cb870",
   "metadata": {},
   "outputs": [],
   "source": [
    "# for the second time onwards, run the following command to activate the package\n",
    "import Pkg\n",
    "Pkg.activate(\"diffusion\") # activate the package"
   ]
  },
  {
   "cell_type": "code",
   "execution_count": null,
   "id": "82d25283",
   "metadata": {},
   "outputs": [],
   "source": [
    "using Images\n",
    "using Plots\n",
    "using Revise\n",
    "include(\"./ImageProcessing.jl\")\n",
    "using .ImageProcessing"
   ]
  },
  {
   "cell_type": "markdown",
   "id": "f8b37cf8",
   "metadata": {},
   "source": [
    "Next, we will load the image and preprocess it. The image will be converted to `float32` and normalized to the range [-1, 1]."
   ]
  },
  {
   "cell_type": "code",
   "execution_count": null,
   "id": "fe2b637c",
   "metadata": {},
   "outputs": [],
   "source": [
    "img_f32 = ImageProcessing.load_image(\"./imgs/corgy-dungeon.jpg\")\n",
    "\n",
    "println(\"Original: \")\n",
    "println(\"Max: \", maximum(img_f32))\n",
    "println(\"Min: \", minimum(img_f32))\n",
    "\n",
    "# normalize the image\n",
    "img_f32_n = ImageProcessing.normalize(img_f32)\n",
    "\n",
    "println(\"Normalized: \")\n",
    "println(\"Max: \", maximum(img_f32_n))\n",
    "println(\"Min: \", minimum(img_f32_n))\n",
    "\n",
    "\n",
    "# Show the image -> you can dircetly pass the normalized image to the show_image function\n",
    "ImageProcessing.show_image(img_f32_n)"
   ]
  },
  {
   "cell_type": "markdown",
   "id": "023dda2d",
   "metadata": {},
   "source": [
    "## Forward Process - Adding Noise using the Gaussian Distribution\n",
    "\n",
    "The Gaussian distribution is a continuous probability distribution that is defined by the probability density function (pdf):\n",
    "\n",
    "$$\n",
    "\\text{pdf}(x, \\mu, \\sigma) = \\frac{1}{\\sigma \\sqrt{2\\pi}} e^{-\\frac{1}{2}\\left(\\frac{x-\\mu}{\\sigma}\\right)^2} \n",
    "$$\n",
    "\n",
    "where $\\mu$ is the mean and $\\sigma$ is the standard deviation. When we sample x from the distribution we can write it as $x \\sim \\mathcal{N}(\\mu, \\sigma^2)$ or $\\mathcal{N}(x; \\mu, \\sigma^2)$. To easily sample from any normal distribution we can simply sample from the standard normal distribution and then scale and shift the samples: \n",
    "\n",
    "$$\n",
    "x = \\mu + \\sigma z \\quad \\text{where} \\quad z \\sim \\mathcal{N}(0, 1)\n",
    "$$\n",
    "\n",
    "Here is a simple example where we sample 1000 times from a normal distribution with $\\mu = 1.5$ and $\\sigma = 0.7$ and then plot the histogram of the samples. We can see that the histogram is similar to the probability density function of the normal distribution. "
   ]
  },
  {
   "cell_type": "code",
   "execution_count": null,
   "id": "8e473c59",
   "metadata": {},
   "outputs": [],
   "source": [
    "using StatsBase, LaTeXStrings\n",
    "μ, σ, n = 1.5, 0.7, 1000\n",
    "x = μ .+ σ .* randn(n);\n",
    "h = fit(Histogram, x, nbins=50);\n",
    "width = h.edges[1][2] - h.edges[1][1]\n",
    "y = h.weights / sum(h.weights * width);\n",
    "bar(h.edges[1], y, label=\"simulated\", xlabel=L\"x\", ylabel=\"probability\")\n",
    "\n",
    "pdf(x, μ, σ) = 1 / (σ * sqrt(2π)) * exp(-0.5 * (x - μ)^2 / σ^2)\n",
    "xt = -1:0.01:4\n",
    "yt = pdf.(xt, μ, σ)\n",
    "plot!(xt, yt, linewidth=3, label=\"theoretical\")"
   ]
  },
  {
   "cell_type": "markdown",
   "id": "8ee9bb8b",
   "metadata": {},
   "source": [
    "### Exercise \n",
    "\n",
    "1. Try changing the mean and standard deviation of the normal distribution and see how the histogram changes. Generate a histogram for: $\\mu = 10, \\sigma = 12$.\n",
    "2. Try increasing the number of samples and see how the histogram changes. Generate a histogram for `n_samples = 10000`, `n_samples = 100` and `n_samples = 10`."
   ]
  },
  {
   "cell_type": "code",
   "execution_count": null,
   "id": "7c2bfc89",
   "metadata": {},
   "outputs": [],
   "source": [
    "# Exercise ... "
   ]
  },
  {
   "cell_type": "markdown",
   "id": "a80e5047",
   "metadata": {},
   "source": [
    "The multivariate normal distribution is a generalization of the one-dimensional normal distribution to higher dimensions. It may be written as the distribution of a vector that is normally distributed. \n",
    "\n",
    "$$\n",
    "\\mathcal{N}(x; \\mathbf{\\mu}, \\mathbf{\\Sigma})\n",
    "$$\n",
    "\n",
    "where $\\mathbf{\\mu}$ is the mean vector and $\\mathbf{\\Sigma}$ is the covariance matrix. If the covariance matrix is diagonal, the distributions are indepedant an we can use the Identity matrix $\\mathbf{I}$ and a vector $\\mathbf{\\sigma}$ of standard deviations.\n",
    "    "
   ]
  },
  {
   "cell_type": "markdown",
   "id": "7b3244e6",
   "metadata": {},
   "source": [
    "## Forward Process\n",
    "\n",
    "The forward process $q$ determines how subsequent steps in the diffusion are derived (gradual distortion of the original sample $x_0$).\n",
    "\n",
    "Basic format of the forward step:\n",
    "$$\n",
    "q(x_t|x_{t−1}) := \\mathcal{N}(x_t; \\sqrt{1 − \\beta_t}x_{t−1}, \\beta_tI) \\tag{1}\n",
    "$$\n",
    "\n",
    "For a complete trajectory $x_{0}$ to $x_{1:T}$ We can describe it with the following product of conditional distributions: \n",
    "$$\n",
    "q(\\mathbf{x}_{1:T} \\vert \\mathbf{x}_0) = \\prod^T_{t=1} q(\\mathbf{x}_t \\vert \\mathbf{x}_{t-1})\n",
    "$$\n",
    "\n",
    "For infinite steps $T \\rightarrow \\infty$ the input data would be transformed into a variable from an isotropic Gaussian distribution $x_T \\sim N(0,I)$.\n",
    "\n",
    "<div style=\"text-align: center\">\n",
    "        <img src=\"./imgs/DDPM.png\" alt=\"DDPM\" width=\"800\"/>\n",
    "</div>\n",
    "\n",
    "Since a product of Gaussians is a Gaussian, we can write the forward process as a single Gaussian distribution. Using $\\alpha_t=1-\\beta_t$ and $\\bar{\\alpha_t}=\\prod^t_{i=1}\\alpha_i$ we can write a simple form of the forward process. To step directly from $x_0$ to $x_t$ we can use the reparmetrization trick:\n",
    "$$\n",
    "q(x_t|x_0) = \\mathcal{N}(x_t;\\sqrt{\\bar{\\alpha_t}}x_0, (1 − \\bar{\\alpha_t})I) \\tag{2}\n",
    "$$"
   ]
  },
  {
   "cell_type": "markdown",
   "id": "823147d9",
   "metadata": {},
   "source": [
    "### Defining a schedule\n",
    "The diffusion process is built based on a variance schedule, which determines the levels of added noise at each step of the process. To that end, our schedule is defined below, with the following quantities:\n",
    "\n",
    "* `betas`:$\\beta_t \\in [0, 1]$ \n",
    "\n",
    "\n",
    "* `alphas`: $\\alpha_t=1-\\beta_t$\n",
    "\n",
    "\n",
    "* `alphas_sqrt`:  $\\sqrt{\\alpha_t}$ \n",
    "\n",
    "\n",
    "* `alphas_prod`: $\\bar{\\alpha}_t=\\prod_{i=0}^{t}\\alpha_i$ \n",
    "\n",
    "\n",
    "* `alphas_prod_sqrt`: $\\sqrt{\\bar{\\alpha}_t}$ "
   ]
  },
  {
   "cell_type": "code",
   "execution_count": null,
   "id": "6494b544",
   "metadata": {},
   "outputs": [],
   "source": [
    "num_timesteps = 1000\n",
    "betas = range(1e-4, 2e-2, length=num_timesteps) # from 0.0001 to 0.02 in 1000 steps\n",
    "alphas = 1 .- betas                            # from 0.9999 to 0.98 in 1000 steps\n",
    "alphas_sqrt = sqrt.(alphas)\n",
    "alphas_cumprod = cumprod(alphas)\n",
    "alphas_cumprod_sqrt = sqrt.(alphas_cumprod);"
   ]
  },
  {
   "cell_type": "markdown",
   "id": "ef306b72",
   "metadata": {},
   "source": [
    "### Fast forward Stepping by Jumping\n",
    "Let's define the function  `forward_jump()` for $q(x_t|x_0) = \\mathcal{N}(x_t;\\sqrt{\\bar{\\alpha_t}}x_0, (1 − \\bar{\\alpha_t})I)$.\n",
    "\n",
    "### Exercise\n",
    "\n",
    "Define the function and test it with the function `plot_samples(N, M, num_timesteps, img_)` below."
   ]
  },
  {
   "cell_type": "code",
   "execution_count": null,
   "id": "f1976dfe",
   "metadata": {},
   "outputs": [],
   "source": [
    "using Flux  # for the randn_like function, if necessary\n",
    "\n",
    "function forward_jump(t, condition_img; condition_idx=0)\n",
    "    # forward jump: 0 -> t\n",
    "    @assert t >= 0\n",
    "\n",
    "    # get the mean and std of the distribution\n",
    "    # Exercise ... \n",
    "    mean = ...\n",
    "    std = ...\n",
    "    # sample from a random normal distribution (check ?randn for help) with the same size as the image\n",
    "    noise = ...\n",
    "\n",
    "    return mean + std * noise\n",
    "end"
   ]
  },
  {
   "cell_type": "markdown",
   "id": "3fea926a",
   "metadata": {},
   "source": [
    "Let's test the function with our example.\n",
    "\n",
    "The following function samples N steps of the diffusion process, starting from the given image. At each step the mean is plotted in the first coluinm and M samples from the distribution are plotted in the subsequent column. Hence, the subsequent columns to the right show several samples taken from the same distribution (they are different if you look closely!)."
   ]
  },
  {
   "cell_type": "code",
   "execution_count": null,
   "id": "1f3dc1e1",
   "metadata": {},
   "outputs": [],
   "source": [
    "N = 5; # number of computed states between x_0 and x_T\n",
    "M = 4; # number of samples taken from each distribution\n",
    "\n",
    "function plot_samples(N, M, num_timesteps, img_)\n",
    "    # Initial column\n",
    "    plts = []\n",
    "    for idx in 1:N\n",
    "        t_step = Int((idx-1) * (num_timesteps / N))+1\n",
    "        img_t = alphas_cumprod_sqrt[t_step] * img_\n",
    "        plt = show_image(img_t)\n",
    "        plot!(plt, xticks=[], yticks=[], title=L\"\\sqrt{\\bar{\\alpha_t}}x_0\")\n",
    "        push!(plts, plt)\n",
    "        # Remaining columns for each sample\n",
    "        for sample in 1:M\n",
    "            x_t = forward_jump(t_step, img_)\n",
    "            plt = show_image(x_t)\n",
    "            plot!(plt, xticks=[], yticks=[], title=\"q$sample at t=$(t_step-1)\")\n",
    "            push!(plts, plt)\n",
    "        end\n",
    "    end\n",
    "\n",
    "    # Display the plots\n",
    "    plot(plts..., layout=(N + 1, M + 1), size=(1200, 800))\n",
    "    \n",
    "end\n",
    "\n",
    "# Call the function with appropriate parameters\n",
    "plot_samples(N, M, num_timesteps, img_f32_n)\n"
   ]
  },
  {
   "cell_type": "markdown",
   "id": "24c8b0d7",
   "metadata": {},
   "source": [
    "## Looking at the noise added\n",
    "\n",
    "Let's look at what an example noise distribution might look like. Therefore, let's define the function `forward_jump_with_noise()` similar to the function `forward_jump()` where we also return the generated noise. \n",
    "\n",
    "### Exercise\n",
    "\n",
    "Define the function and test it below."
   ]
  },
  {
   "cell_type": "code",
   "execution_count": null,
   "id": "f9e3f64b",
   "metadata": {},
   "outputs": [],
   "source": [
    "function forward_jump_with_noise(t, condition_img; condition_idx=0)\n",
    "    # forward jump: 0 -> t\n",
    "    @assert t >= 0\n",
    "\n",
    "    # get the mean and std of the distribution\n",
    "    # Exercise ... \n",
    "    mean = ...\n",
    "    std = ...\n",
    "    # sample from a random normal distribution (check ?randn for help) with the same size as the image\n",
    "    noise = ... \n",
    "    \n",
    "    return mean + std * noise, noise\n",
    "end"
   ]
  },
  {
   "cell_type": "markdown",
   "id": "72d9c6f1",
   "metadata": {},
   "source": [
    "And now let us look at an example of the noise $\\epsilon$ generated by the function `forward_jump_with_noise()`."
   ]
  },
  {
   "cell_type": "code",
   "execution_count": null,
   "id": "1c673a4d",
   "metadata": {},
   "outputs": [],
   "source": [
    "t_step = 50\n",
    "\n",
    "x_t, noise = forward_jump_with_noise(t_step, img_f32_n)\n",
    "\n",
    "p1 = show_image(img_f32_n)\n",
    "p1 = plot!(p1, title=\"x_0\", aspect_ratio=:equal, legend=false)\n",
    "p2 = show_image(x_t)\n",
    "p2 = plot!(p2, title=\"x_t\", aspect_ratio=:equal, legend=false)\n",
    "p3 = show_image(noise)\n",
    "p3 = plot!(p3, title=\"ε\", aspect_ratio=:equal, legend=false)\n",
    "\n",
    "plot(p1, p2, p3, layout=(1, 3), size=(1200, 400))"
   ]
  }
 ],
 "metadata": {
  "kernelspec": {
   "display_name": "Julia 1.10.2",
   "language": "julia",
   "name": "julia-1.10"
  },
  "language_info": {
   "file_extension": ".jl",
   "mimetype": "application/julia",
   "name": "julia",
   "version": "1.10.2"
  }
 },
 "nbformat": 4,
 "nbformat_minor": 5
}
